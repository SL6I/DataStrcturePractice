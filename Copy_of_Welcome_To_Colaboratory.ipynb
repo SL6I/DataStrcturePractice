{
  "cells": [
    {
      "cell_type": "markdown",
      "metadata": {
        "id": "view-in-github",
        "colab_type": "text"
      },
      "source": [
        "<a href=\"https://colab.research.google.com/github/SL6I/DataStrcturePractice/blob/main/Copy_of_Welcome_To_Colaboratory.ipynb\" target=\"_parent\"><img src=\"https://colab.research.google.com/assets/colab-badge.svg\" alt=\"Open In Colab\"/></a>"
      ]
    },
    {
      "cell_type": "code",
      "source": [
        "def f(x): # Objective function\n",
        "    return x**5 - 5*x**3 - 20*x + 5"
      ],
      "metadata": {
        "id": "qE01Yi0oKZPz"
      },
      "execution_count": null,
      "outputs": []
    },
    {
      "cell_type": "code",
      "source": [],
      "metadata": {
        "id": "ZOqCzBY-JBku"
      },
      "execution_count": null,
      "outputs": []
    },
    {
      "cell_type": "code",
      "source": [
        "def fibonacci(n): # define the  function\n",
        "    fn = [0, 1,]\n",
        "    for i in range(2, n+1):\n",
        "        fn.append(fn[i-1] + fn[i-2])\n",
        "    return fn"
      ],
      "metadata": {
        "id": "e-qeIq6wKcBC"
      },
      "execution_count": null,
      "outputs": []
    },
    {
      "cell_type": "code",
      "source": [
        "def fibSeaction(a, b, n):\n",
        "    fib= fibonacci(n)\n",
        "    L0 = b - a\n",
        "    R1 = L0\n",
        "    Li = (fib[n-2]/fib[n])*L0\n",
        "\n",
        "    R1 = Li/L0\n",
        "    print(f\"{'Iteration':<12} {'Left':<12} {'Right':<12} {'F(x1)':<12} {'F(x2)':<12} {'Ratio':<12}\")\n",
        "    print('-' * 72)\n",
        "\n",
        "    # Print initial values\n",
        "    print(f\"{1:<12} {a:<12.5f} {b:<12.5f} {f(a):<12.5f} {f(b):<12.5f} {R1:<12.5f}\")\n",
        "\n",
        "    for i in range(2,n+1):\n",
        "       if Li>= L0/2:\n",
        "         x1 = b - Li\n",
        "         x2 = a + Li\n",
        "       else:\n",
        "         x2 = b - Li\n",
        "         x1 = a + Li\n",
        "\n",
        "       f1 = f(x1)\n",
        "       f2 = f(x2)\n",
        "\n",
        "       if(f1 < f2):\n",
        "         b = x2\n",
        "         Li = (fib[n-i] / fib[n-(i - 2)]) * L0\n",
        "\n",
        "       elif(f1 > f2):\n",
        "         a = x1\n",
        "         Li = (fib[n-i] / fib[n-(i - 2)]) * L0\n",
        "       else:\n",
        "         a = x1\n",
        "         b = x2\n",
        "         Li = (fib[n-i] / fib[n-(i - 2)]) * (b - a)\n",
        "\n",
        "       L0 = b - a\n",
        "       R = Li / R1\n",
        "       print(f\"{i:<12} {a:<12.5f} {b:<12.5f} {f(x1):<12.5f} {f(x2):<12.5f} {R:<12.5f}\")\n",
        "    if f1 < f2:\n",
        "      print('ji')\n",
        "      return x1,f(x1),R\n",
        "\n",
        "    else:\n",
        "      print('hdhjsj')\n",
        "      return x2,f(x2),R\n",
        "\n",
        "print(fibSeaction(-2.5,2.5,25))\n"
      ],
      "metadata": {
        "id": "ZRnVKT9cKka6",
        "outputId": "2f994084-e6c2-49be-c3a4-01cb22c7c934",
        "colab": {
          "base_uri": "https://localhost:8080/"
        }
      },
      "execution_count": null,
      "outputs": [
        {
          "output_type": "stream",
          "name": "stdout",
          "text": [
            "Iteration    Left         Right        F(x1)        F(x2)        Ratio       \n",
            "------------------------------------------------------------------------\n",
            "1            -2.50000     2.50000      35.46875     -25.46875    0.38197     \n",
            "2            -0.59017     2.50000      17.75959     -7.75959     5.00000     \n",
            "3            0.59017      2.50000      -7.75959     -28.88185    3.09017     \n",
            "4            1.31966      2.50000      -28.88185    -40.76263    1.90983     \n",
            "5            1.77051      2.50000      -40.76263    -42.87500    1.18034     \n",
            "6            1.77051      2.22136      -42.87500    -40.14582    0.72949     \n",
            "7            1.94272      2.22136      -42.84242    -42.87500    0.45085     \n",
            "8            1.94272      2.11493      -42.87500    -42.28468    0.27864     \n",
            "9            1.94272      2.04915      -42.99637    -42.87500    0.17221     \n",
            "10           1.98337      2.04915      -42.98634    -42.99637    0.10643     \n",
            "11           1.98337      2.02403      -42.99637    -42.97065    0.06578     \n",
            "12           1.98337      2.00850      -42.99994    -42.99637    0.04065     \n",
            "13           1.99297      2.00850      -42.99754    -42.99994    0.02512     \n",
            "14           1.99297      2.00257      -42.99994    -42.99967    0.01553     \n",
            "15           1.99663      2.00257      -42.99943    -42.99994    0.00960     \n",
            "16           1.99890      2.00257      -42.99994    -43.00000    0.00593     \n",
            "17           1.99890      2.00117      -43.00000    -42.99993    0.00366     \n",
            "18           1.99890      2.00030      -43.00000    -43.00000    0.00227     \n",
            "19           1.99943      2.00030      -42.99998    -43.00000    0.00140     \n",
            "20           1.99977      2.00030      -43.00000    -43.00000    0.00087     \n",
            "21           1.99977      2.00010      -43.00000    -43.00000    0.00052     \n",
            "22           1.99990      2.00010      -43.00000    -43.00000    0.00035     \n",
            "23           1.99990      2.00003      -43.00000    -43.00000    0.00017     \n",
            "24           1.99997      1.99997      -43.00000    -43.00000    0.00000     \n",
            "25           1.99997      1.99997      -43.00000    -43.00000    0.00000     \n",
            "hdhjsj\n",
            "(1.999966677774075, -42.99999994448275, 0.0)\n"
          ]
        }
      ]
    },
    {
      "cell_type": "code",
      "source": [],
      "metadata": {
        "id": "KMSfTAaVJCaV"
      },
      "execution_count": null,
      "outputs": []
    },
    {
      "cell_type": "code",
      "source": [
        "def my_f(x):\n",
        "  return 1/16 * x**3 - 27/4 * x\n",
        "\n",
        "import math\n",
        "print(f\"{'Iteration':<12} {'Left':<12} {'Right':<12} {'F(x1)':<12} {'F(x2)':<12} {'Ratio':<12}\")\n",
        "print('-' * 72)\n",
        "\n",
        "def golden_section(a,b,tole):\n",
        "  n = 1\n",
        "  L = b - a\n",
        "  golden_R = (math.sqrt(5) - 1) / 2\n",
        "  x1 = a + golden_R**2 * L\n",
        "  x2 = a + golden_R * L\n",
        "  while L >= tole:\n",
        "    f1 = my_f(x1)\n",
        "    f2 = my_f(x2)\n",
        "\n",
        "    if f1 > f2:\n",
        "      a = x1\n",
        "      x1 = x2\n",
        "      L = b - a\n",
        "      x2 = a + golden_R * L\n",
        "\n",
        "    else:\n",
        "      b = x2\n",
        "      x2 = x1\n",
        "      L = b - a\n",
        "      x1 = a + golden_R**2 * L\n",
        "    print(f\"{n:<12} {a:<12.5f} {b:<12.5f} {f1:<12.5f} {f2:<12.5f} {L:<12.5f}\")\n",
        "    n = n+1\n",
        "  x_star = (a+b) / 2\n",
        "  return x_star, my_f(x_star)\n",
        "\n",
        "a = -10\n",
        "b = 10\n",
        "tolerance = 10 ** -5\n",
        "print(golden_section(a,b,tolerance))"
      ],
      "metadata": {
        "colab": {
          "base_uri": "https://localhost:8080/"
        },
        "id": "rmmKbs74JTFG",
        "outputId": "7399eb6d-f9d2-4bb2-8782-b33a8562d57b"
      },
      "execution_count": 20,
      "outputs": [
        {
          "output_type": "stream",
          "name": "stdout",
          "text": [
            "Iteration    Left         Right        F(x1)        F(x2)        Ratio       \n",
            "------------------------------------------------------------------------\n",
            "1            -2.36068     10.00000     15.11236     -15.11236    12.36068    \n",
            "2            2.36068      10.00000     -15.11236    -26.43806    7.63932     \n",
            "3            2.36068      7.08204      -26.43806    -25.60366    4.72136     \n",
            "4            4.16408      7.08204      -23.59483    -26.43806    2.91796     \n",
            "5            5.27864      7.08204      -26.43806    -26.99881    1.80340     \n",
            "6            5.27864      6.39320      -26.99881    -26.82227    1.11456     \n",
            "7            5.70437      6.39320      -26.90329    -26.99881    0.68884     \n",
            "8            5.70437      6.13009      -26.99881    -26.98082    0.42572     \n",
            "9            5.86698      6.13009      -26.98024    -26.99881    0.26311     \n",
            "10           5.96748      6.13009      -26.99881    -26.99901    0.16261     \n",
            "11           5.96748      6.06798      -26.99901    -26.99478    0.10050     \n",
            "12           5.96748      6.02959      -26.99996    -26.99901    0.06211     \n",
            "13           5.99120      6.02959      -26.99991    -26.99996    0.03839     \n",
            "14           5.99120      6.01493      -26.99996    -26.99975    0.02372     \n",
            "15           5.99120      6.00587      -27.00000    -26.99996    0.01466     \n",
            "16           5.99680      6.00587      -26.99999    -27.00000    0.00906     \n",
            "17           5.99680      6.00240      -27.00000    -26.99999    0.00560     \n",
            "18           5.99894      6.00240      -27.00000    -27.00000    0.00346     \n",
            "19           5.99894      6.00108      -27.00000    -27.00000    0.00214     \n",
            "20           5.99894      6.00026      -27.00000    -27.00000    0.00132     \n",
            "21           5.99945      6.00026      -27.00000    -27.00000    0.00082     \n",
            "22           5.99976      6.00026      -27.00000    -27.00000    0.00051     \n",
            "23           5.99976      6.00007      -27.00000    -27.00000    0.00031     \n",
            "24           5.99988      6.00007      -27.00000    -27.00000    0.00019     \n",
            "25           5.99995      6.00007      -27.00000    -27.00000    0.00012     \n",
            "26           5.99995      6.00003      -27.00000    -27.00000    0.00007     \n",
            "27           5.99998      6.00003      -27.00000    -27.00000    0.00005     \n",
            "28           5.99998      6.00001      -27.00000    -27.00000    0.00003     \n",
            "29           5.99999      6.00001      -27.00000    -27.00000    0.00002     \n",
            "30           6.00000      6.00001      -27.00000    -27.00000    0.00001     \n",
            "31           6.00000      6.00000      -27.00000    -27.00000    0.00001     \n",
            "(6.000001171911977, -26.999999999998458)\n"
          ]
        }
      ]
    },
    {
      "cell_type": "code",
      "source": [],
      "metadata": {
        "id": "9EqN0YpmU3Y9"
      },
      "execution_count": null,
      "outputs": []
    },
    {
      "cell_type": "code",
      "source": [],
      "metadata": {
        "id": "y5Gu2aQMPNz9"
      },
      "execution_count": null,
      "outputs": []
    }
  ],
  "metadata": {
    "colab": {
      "toc_visible": true,
      "provenance": [],
      "include_colab_link": true
    },
    "kernelspec": {
      "display_name": "Python 3",
      "name": "python3"
    }
  },
  "nbformat": 4,
  "nbformat_minor": 0
}
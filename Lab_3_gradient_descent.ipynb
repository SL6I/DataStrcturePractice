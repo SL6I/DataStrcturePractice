{
  "cells": [
    {
      "cell_type": "markdown",
      "metadata": {
        "id": "view-in-github",
        "colab_type": "text"
      },
      "source": [
        "<a href=\"https://colab.research.google.com/github/SL6I/DataStrcturePractice/blob/main/Lab_3_gradient_descent.ipynb\" target=\"_parent\"><img src=\"https://colab.research.google.com/assets/colab-badge.svg\" alt=\"Open In Colab\"/></a>"
      ]
    },
    {
      "cell_type": "code",
      "source": [
        "import math\n",
        "\n",
        "def my_function(x1, x2):\n",
        "    return 10 * x1 ** 2 + x2 ** 2 / 2\n",
        "\n",
        "def gradient_x1(x1, x2):\n",
        "    return 20 * x1\n",
        "\n",
        "def gradient_x2(x1, x2):\n",
        "    return x2\n",
        "\n",
        "def gradient_descent(epsilon, starting_point, max_iteration, alpha):\n",
        "    x_values = [starting_point]\n",
        "    k = 0\n",
        "    length = math.sqrt(gradient_x1(starting_point[0], starting_point[1]) ** 2 + gradient_x2(starting_point[0], starting_point[1]) ** 2)\n",
        "\n",
        "    # Header of the table\n",
        "    header = f\"{'Iteration':<10}{'x1':<15}{'x2':<15}{'Function Value':<20}{'Alpha':<15}{'Gradient x1':<15}{'Gradient x2':<15}{'Length':<15}\"\n",
        "    print(header)\n",
        "    print('-' * len(header))\n",
        "\n",
        "    while length > epsilon and k < max_iteration:\n",
        "        new_x1 = x_values[k][0] - alpha * gradient_x1(x_values[k][0], x_values[k][1])\n",
        "        new_x2 = x_values[k][1] - alpha * gradient_x2(x_values[k][0], x_values[k][1])\n",
        "        x_values.append([new_x1, new_x2])\n",
        "\n",
        "        grad_x1 = gradient_x1(new_x1, new_x2)\n",
        "        grad_x2 = gradient_x2(new_x1, new_x2)\n",
        "        length = math.sqrt(grad_x1 ** 2 + grad_x2 ** 2)\n",
        "        function_value = my_function(new_x1, new_x2)\n",
        "\n",
        "\n",
        "        row = f\"{k:<10}{new_x1:<15.6f}{new_x2:<15.6f}{function_value:<20.6f}{alpha:<15}{grad_x1:<15.6f}{grad_x2:<15.6f}{length:<15.6f}\"\n",
        "        print(row)\n",
        "        k += 1\n",
        "\n",
        "\n",
        "alpha_values = [0.01,0.1,1] # alpha values\n",
        "epsilon = 0.01\n",
        "starting_point = [1, 1]\n",
        "k_max = 30\n",
        "\n",
        "\n",
        "gradient_descent(epsilon, starting_point, k_max, alpha_values[0])\n"
      ],
      "metadata": {
        "id": "UsbPcIkTRfLf",
        "outputId": "938b00e6-f7c2-4ba3-a504-ef38bd46a304",
        "colab": {
          "base_uri": "https://localhost:8080/"
        }
      },
      "execution_count": null,
      "outputs": [
        {
          "output_type": "stream",
          "name": "stdout",
          "text": [
            "Iteration x1             x2             Function Value      Alpha          Gradient x1    Gradient x2    Length         \n",
            "------------------------------------------------------------------------------------------------------------------------\n",
            "0         0.800000       0.990000       6.890050            0.01           16.000000      0.990000       16.030599      \n",
            "1         0.640000       0.980100       4.576298            0.01           12.800000      0.980100       12.837468      \n",
            "2         0.512000       0.970299       3.092180            0.01           10.240000      0.970299       10.285868      \n",
            "3         0.409600       0.960596       2.139094            0.01           8.192000       0.960596       8.248128       \n",
            "4         0.327680       0.950990       1.525933            0.01           6.553600       0.950990       6.622239       \n",
            "5         0.262144       0.941480       1.130387            0.01           5.242880       0.941480       5.326742       \n",
            "6         0.209715       0.932065       0.874178            0.01           4.194304       0.932065       4.296619       \n",
            "7         0.167772       0.922745       0.707204            0.01           3.355443       0.922745       3.480008       \n",
            "8         0.134218       0.913517       0.597401            0.01           2.684355       0.913517       2.835538       \n",
            "9         0.107374       0.904382       0.524246            0.01           2.147484       0.904382       2.330149       \n",
            "10        0.085899       0.895338       0.474602            0.01           1.717987       0.895338       1.937294       \n",
            "11        0.068719       0.886385       0.440063            0.01           1.374390       0.886385       1.635428       \n",
            "12        0.054976       0.877521       0.415245            0.01           1.099512       0.877521       1.406758       \n",
            "13        0.043980       0.868746       0.396702            0.01           0.879609       0.868746       1.236298       \n",
            "14        0.035184       0.860058       0.382230            0.01           0.703687       0.860058       1.111250       \n",
            "15        0.028147       0.851458       0.370413            0.01           0.562950       0.851458       1.020732       \n",
            "16        0.022518       0.842943       0.360347            0.01           0.450360       0.842943       0.955708       \n",
            "17        0.018014       0.834514       0.351452            0.01           0.360288       0.834514       0.908967       \n",
            "18        0.014412       0.826169       0.343354            0.01           0.288230       0.826169       0.875004       \n",
            "19        0.011529       0.817907       0.335815            0.01           0.230584       0.817907       0.849789       \n",
            "20        0.009223       0.809728       0.328680            0.01           0.184467       0.809728       0.830474       \n",
            "21        0.007379       0.801631       0.321850            0.01           0.147574       0.801631       0.815101       \n",
            "22        0.005903       0.793614       0.315260            0.01           0.118059       0.793614       0.802348       \n",
            "23        0.004722       0.785678       0.308868            0.01           0.094447       0.785678       0.791335       \n",
            "24        0.003778       0.777821       0.302646            0.01           0.075558       0.777821       0.781483       \n",
            "25        0.003022       0.770043       0.296575            0.01           0.060446       0.770043       0.772412       \n",
            "26        0.002418       0.762343       0.290642            0.01           0.048357       0.762343       0.763875       \n",
            "27        0.001934       0.754719       0.284838            0.01           0.038686       0.754719       0.755710       \n",
            "28        0.001547       0.747172       0.279157            0.01           0.030949       0.747172       0.747813       \n",
            "29        0.001238       0.739700       0.273594            0.01           0.024759       0.739700       0.740115       \n"
          ]
        }
      ]
    },
    {
      "cell_type": "code",
      "source": [
        "gradient_descent(epsilon, starting_point, k_max, alpha_values[1])\n"
      ],
      "metadata": {
        "id": "UNSw3Wg0RqTH",
        "outputId": "a61fcd36-7094-46c8-9284-fc969317cef2",
        "colab": {
          "base_uri": "https://localhost:8080/"
        }
      },
      "execution_count": null,
      "outputs": [
        {
          "output_type": "stream",
          "name": "stdout",
          "text": [
            "Iteration x1             x2             Function Value      Alpha          Gradient x1    Gradient x2    Length         \n",
            "------------------------------------------------------------------------------------------------------------------------\n",
            "0         -1.000000      0.900000       10.405000           0.1            -20.000000     0.900000       20.020240      \n",
            "1         1.000000       0.810000       10.328050           0.1            20.000000      0.810000       20.016396      \n",
            "2         -1.000000      0.729000       10.265721           0.1            -20.000000     0.729000       20.013282      \n",
            "3         1.000000       0.656100       10.215234           0.1            20.000000      0.656100       20.010759      \n",
            "4         -1.000000      0.590490       10.174339           0.1            -20.000000     0.590490       20.008715      \n",
            "5         1.000000       0.531441       10.141215           0.1            20.000000      0.531441       20.007059      \n",
            "6         -1.000000      0.478297       10.114384           0.1            -20.000000     0.478297       20.005718      \n",
            "7         1.000000       0.430467       10.092651           0.1            20.000000      0.430467       20.004632      \n",
            "8         -1.000000      0.387420       10.075047           0.1            -20.000000     0.387420       20.003752      \n",
            "9         1.000000       0.348678       10.060788           0.1            20.000000      0.348678       20.003039      \n",
            "10        -1.000000      0.313811       10.049239           0.1            -20.000000     0.313811       20.002462      \n",
            "11        1.000000       0.282430       10.039883           0.1            20.000000      0.282430       20.001994      \n",
            "12        -1.000000      0.254187       10.032305           0.1            -20.000000     0.254187       20.001615      \n",
            "13        1.000000       0.228768       10.026167           0.1            20.000000      0.228768       20.001308      \n",
            "14        -1.000000      0.205891       10.021196           0.1            -20.000000     0.205891       20.001060      \n",
            "15        1.000000       0.185302       10.017168           0.1            20.000000      0.185302       20.000858      \n",
            "16        -1.000000      0.166772       10.013906           0.1            -20.000000     0.166772       20.000695      \n",
            "17        1.000000       0.150095       10.011264           0.1            20.000000      0.150095       20.000563      \n",
            "18        -1.000000      0.135085       10.009124           0.1            -20.000000     0.135085       20.000456      \n",
            "19        1.000000       0.121577       10.007390           0.1            20.000000      0.121577       20.000370      \n",
            "20        -1.000000      0.109419       10.005986           0.1            -20.000000     0.109419       20.000299      \n",
            "21        1.000000       0.098477       10.004849           0.1            20.000000      0.098477       20.000242      \n",
            "22        -1.000000      0.088629       10.003928           0.1            -20.000000     0.088629       20.000196      \n",
            "23        1.000000       0.079766       10.003181           0.1            20.000000      0.079766       20.000159      \n",
            "24        -1.000000      0.071790       10.002577           0.1            -20.000000     0.071790       20.000129      \n",
            "25        1.000000       0.064611       10.002087           0.1            20.000000      0.064611       20.000104      \n",
            "26        -1.000000      0.058150       10.001691           0.1            -20.000000     0.058150       20.000085      \n",
            "27        1.000000       0.052335       10.001369           0.1            20.000000      0.052335       20.000068      \n",
            "28        -1.000000      0.047101       10.001109           0.1            -20.000000     0.047101       20.000055      \n",
            "29        1.000000       0.042391       10.000899           0.1            20.000000      0.042391       20.000045      \n"
          ]
        }
      ]
    },
    {
      "cell_type": "code",
      "source": [
        "def gradient_descent(epsilon, starting_point, max_iteration, alpha):\n",
        "    x_values = [starting_point]\n",
        "    k = 0\n",
        "    length = math.sqrt(gradient_x1(starting_point[0], starting_point[1]) ** 2 + gradient_x2(starting_point[0], starting_point[1]) ** 2)\n",
        "\n",
        "    # Header of the table\n",
        "    header = f\"{'Iteration':<10}{'x1':<25}{'x2':<15}{'Function Value':<20}{'Alpha':<15}{'Gradient x1':<15}{'Gradient x2':<15}{'Length':<15}\"\n",
        "    print(header)\n",
        "    print('-' * len(header))\n",
        "\n",
        "    while length > epsilon and k < max_iteration:\n",
        "        new_x1 = x_values[k][0] - alpha * gradient_x1(x_values[k][0], x_values[k][1])\n",
        "        new_x2 = x_values[k][1] - alpha * gradient_x2(x_values[k][0], x_values[k][1])\n",
        "        x_values.append([new_x1, new_x2])\n",
        "\n",
        "        grad_x1 = gradient_x1(new_x1, new_x2)\n",
        "        grad_x2 = gradient_x2(new_x1, new_x2)\n",
        "        length = math.sqrt(grad_x1 ** 2 + grad_x2 ** 2)\n",
        "        function_value = my_function(new_x1, new_x2)\n",
        "\n",
        "        # Adding a row to the table\n",
        "        row = f\"{k:<10}{new_x1:<25.6e}{new_x2:<15.6f}{function_value:<20.6e}{alpha:<15}{grad_x1:<15.6e}{grad_x2:<15.6f}{length:<15.6e}\"\n",
        "        print(row)\n",
        "        k += 1\n",
        "\n",
        "gradient_descent(epsilon, starting_point, k_max, alpha_values[2])"
      ],
      "metadata": {
        "id": "d6FFli8aRse_",
        "outputId": "22ecdb91-9902-4849-f627-bb920db48837",
        "colab": {
          "base_uri": "https://localhost:8080/"
        }
      },
      "execution_count": null,
      "outputs": [
        {
          "output_type": "stream",
          "name": "stdout",
          "text": [
            "Iteration x1                       x2             Function Value      Alpha          Gradient x1    Gradient x2    Length         \n",
            "----------------------------------------------------------------------------------------------------------------------------------\n",
            "0         -1.900000e+01            0.000000       3.610000e+03        1              -3.800000e+02  0.000000       3.800000e+02   \n",
            "1         3.610000e+02             0.000000       1.303210e+06        1              7.220000e+03   0.000000       7.220000e+03   \n",
            "2         -6.859000e+03            0.000000       4.704588e+08        1              -1.371800e+05  0.000000       1.371800e+05   \n",
            "3         1.303210e+05             0.000000       1.698356e+11        1              2.606420e+06   0.000000       2.606420e+06   \n",
            "4         -2.476099e+06            0.000000       6.131066e+13        1              -4.952198e+07  0.000000       4.952198e+07   \n",
            "5         4.704588e+07             0.000000       2.213315e+16        1              9.409176e+08   0.000000       9.409176e+08   \n",
            "6         -8.938717e+08            0.000000       7.990067e+18        1              -1.787743e+10  0.000000       1.787743e+10   \n",
            "7         1.698356e+10             0.000000       2.884414e+21        1              3.396713e+11   0.000000       3.396713e+11   \n",
            "8         -3.226877e+11            0.000000       1.041274e+24        1              -6.453754e+12  0.000000       6.453754e+12   \n",
            "9         6.131066e+12             0.000000       3.758997e+26        1              1.226213e+14   0.000000       1.226213e+14   \n",
            "10        -1.164903e+14            0.000000       1.356998e+29        1              -2.329805e+15  0.000000       2.329805e+15   \n",
            "11        2.213315e+15             0.000000       4.898763e+31        1              4.426630e+16   0.000000       4.426630e+16   \n",
            "12        -4.205298e+16            0.000000       1.768453e+34        1              -8.410597e+17  0.000000       8.410597e+17   \n",
            "13        7.990067e+17             0.000000       6.384117e+36        1              1.598013e+19   0.000000       1.598013e+19   \n",
            "14        -1.518113e+19            0.000000       2.304666e+39        1              -3.036225e+20  0.000000       3.036225e+20   \n",
            "15        2.884414e+20             0.000000       8.319845e+41        1              5.768828e+21   0.000000       5.768828e+21   \n",
            "16        -5.480387e+21            0.000000       3.003464e+44        1              -1.096077e+23  0.000000       1.096077e+23   \n",
            "17        1.041274e+23             0.000000       1.084251e+47        1              2.082547e+24   0.000000       2.082547e+24   \n",
            "18        -1.978420e+24            0.000000       3.914144e+49        1              -3.956839e+25  0.000000       3.956839e+25   \n",
            "19        3.758997e+25             0.000000       1.413006e+52        1              7.517995e+26   0.000000       7.517995e+26   \n",
            "20        -7.142095e+26            0.000000       5.100952e+54        1              -1.428419e+28  0.000000       1.428419e+28   \n",
            "21        1.356998e+28             0.000000       1.841444e+57        1              2.713996e+29   0.000000       2.713996e+29   \n",
            "22        -2.578296e+29            0.000000       6.647612e+59        1              -5.156593e+30  0.000000       5.156593e+30   \n",
            "23        4.898763e+30             0.000000       2.399788e+62        1              9.797526e+31   0.000000       9.797526e+31   \n",
            "24        -9.307650e+31            0.000000       8.663234e+64        1              -1.861530e+33  0.000000       1.861530e+33   \n",
            "25        1.768453e+33             0.000000       3.127427e+67        1              3.536907e+34   0.000000       3.536907e+34   \n",
            "26        -3.360061e+34            0.000000       1.129001e+70        1              -6.720123e+35  0.000000       6.720123e+35   \n",
            "27        6.384117e+35             0.000000       4.075695e+72        1              1.276823e+37   0.000000       1.276823e+37   \n",
            "28        -1.212982e+37            0.000000       1.471326e+75        1              -2.425964e+38  0.000000       2.425964e+38   \n",
            "29        2.304666e+38             0.000000       5.311486e+77        1              4.609332e+39   0.000000       4.609332e+39   \n"
          ]
        }
      ]
    },
    {
      "cell_type": "code",
      "source": [
        "import numpy as np\n",
        "import math\n",
        "\n",
        "def my_function(x1, x2):\n",
        "    return 10 * x1 ** 2 + x2 ** 2 / 2\n",
        "\n",
        "def gradient_x1(x1):\n",
        "    return 20 * x1\n",
        "\n",
        "def gradient_x2(x2):\n",
        "    return x2\n",
        "\n",
        "#search to find the optimal step size alpha\n",
        "def search_optimal_alpha(x1, x2, grad_x1, grad_x2):\n",
        "    alpha_range = np.linspace(0.001, 1, 1000)\n",
        "    min_function = 9999999999999 # big number just to compare at the begining\n",
        "    optimal_alpha = 0\n",
        "    for alpha in alpha_range:\n",
        "\n",
        "        new_x1 = x1 - alpha * grad_x1\n",
        "        new_x2 = x2 - alpha * grad_x2\n",
        "\n",
        "        function_value = function(new_x1, new_x2)\n",
        "\n",
        "        if function_value < min_function:\n",
        "\n",
        "            min_function = function_value\n",
        "            optimal_alpha = alpha\n",
        "\n",
        "    return optimal_alpha\n",
        "\n",
        "# Initial point\n",
        "x1, x2 = 1, 1\n",
        "\n",
        "# Gradient descent parameters\n",
        "k = 1\n",
        "k_max = 30\n",
        "epsilon = 0.001\n",
        "\n",
        "# Print header for the output\n",
        "print(f\"{'Iteration':<10} {'x1':<15} {'x2':<15} {'Function Value':<20} {'Alpha':<10} {'Grad x1':<15} {'Grad x2':<15} {'Gradient Length':<15}\")\n",
        "\n",
        "grad_x1 = gradient_x1(x1)\n",
        "grad_x2 = gradient_x2(x2)\n",
        "\n",
        "length_grad = math.sqrt(grad_x1**2 + grad_x2**2)\n",
        "\n",
        "while k < k_max and length_grad > epsilon:\n",
        "\n",
        "\n",
        "    # search for the optimal alpha\n",
        "    alpha = search_optimal_alpha(x1, x2, grad_x1, grad_x2)\n",
        "\n",
        "    # Update the point\n",
        "    new_x1 = x1 - alpha * grad_x1\n",
        "    new_x2 = x2 - alpha * grad_x2\n",
        "\n",
        "    grad_x1 = gradient_x1(new_x1)\n",
        "    grad_x2 = gradient_x2(new_x2)\n",
        "\n",
        "    # Compute the function value\n",
        "    function_value = my_function(new_x1, new_x2)\n",
        "\n",
        "    length_grad = math.sqrt(grad_x1**2 + grad_x2**2)\n",
        "\n",
        "    # Print the iteration data\n",
        "    print(f\"{k:<10} {new_x1:<15.3f} {new_x2:<15.3f} {function_value:<20.3f} {alpha:<10.3f} {grad_x1:<15.3f} {grad_x2:<15.3f} {length_grad:<15.3f}\")\n",
        "\n",
        "\n",
        "    # Update for the next iteration\n",
        "    x1, x2 = new_x1, new_x2\n",
        "    k += 1\n",
        "\n"
      ],
      "metadata": {
        "colab": {
          "base_uri": "https://localhost:8080/"
        },
        "id": "TWgAN2CvKaTh",
        "outputId": "258c8402-2a72-4574-f0a5-14cd9285a7af"
      },
      "execution_count": null,
      "outputs": [
        {
          "output_type": "stream",
          "name": "stdout",
          "text": [
            "Iteration  x1              x2              Function Value       Alpha      Grad x1         Grad x2         Gradient Length\n",
            "1          0.000           0.950           0.451                0.050      0.000           0.950           0.950          \n",
            "2          0.000           0.000           0.000                1.000      0.000           0.000           0.000          \n"
          ]
        }
      ]
    },
    {
      "cell_type": "code",
      "source": [],
      "metadata": {
        "id": "R5H3wF2CO0UE"
      },
      "execution_count": null,
      "outputs": []
    }
  ],
  "metadata": {
    "colab": {
      "provenance": [],
      "include_colab_link": true
    },
    "kernelspec": {
      "display_name": "Python 3",
      "name": "python3"
    }
  },
  "nbformat": 4,
  "nbformat_minor": 0
}
{
  "nbformat": 4,
  "nbformat_minor": 0,
  "metadata": {
    "colab": {
      "provenance": [],
      "authorship_tag": "ABX9TyParo2V/hgxtIiSGK516H3C",
      "include_colab_link": true
    },
    "kernelspec": {
      "name": "python3",
      "display_name": "Python 3"
    },
    "language_info": {
      "name": "python"
    }
  },
  "cells": [
    {
      "cell_type": "markdown",
      "metadata": {
        "id": "view-in-github",
        "colab_type": "text"
      },
      "source": [
        "<a href=\"https://colab.research.google.com/github/SL6I/DataStrcturePractice/blob/main/lab5.ipynb\" target=\"_parent\"><img src=\"https://colab.research.google.com/assets/colab-badge.svg\" alt=\"Open In Colab\"/></a>"
      ]
    },
    {
      "cell_type": "code",
      "execution_count": null,
      "metadata": {
        "id": "y16lSFkq3njz"
      },
      "outputs": [],
      "source": [
        "import numpy as np\n",
        "\n",
        "def my_function(x1,x2):\n",
        "  return x1 - x2 + 2 * x1 ** 2 + 2 * x1 * x2 + x2 ** 2\n",
        "\n",
        "\n",
        "def gradient_function(x1,x2):\n",
        "  dfdx1 = 1 + 4 * x1 + 2 * x2\n",
        "  dfdx2 = -1 + 2 * x1 + 2 * x2\n",
        "  return np.array([dfdx1,dfdx2])\n",
        "\n",
        "def Adam_OP(epslon,alpha,max_iteration):\n",
        "  x0 = np.array([1, 1])\n",
        "  B1 = 0.9\n",
        "  B2 = 0.999\n",
        "  m = np.array([0, 0])\n",
        "  v = np.array([0, 0])\n",
        "  gradient = gradient_function(x0[0], x0[1])\n",
        "  gradient_length = np.linalg.norm(gradient)\n",
        "  x = x0\n",
        "  t = 0\n",
        "\n",
        "  while gradient_length > epslon and t < max_iteration:\n",
        "    t = t + 1\n",
        "    gradient = gradient_function(x[0], x[1])\n",
        "    m = B1 * m + (1-B1) * gradient\n",
        "    v = B2 * v + (1-B2) * gradient**2\n",
        "    m_hat = m / (1-B1**t)\n",
        "    v_hat = v / (1-B2**t)\n",
        "    x1 = x[0] - alpha * m_hat[0] / (np.sqrt(v_hat[0])+epslon)\n",
        "    x2 = x[1] - alpha * m_hat[1] / (np.sqrt(v_hat[1])+epslon)\n",
        "    x = np.array([x1,x2])\n",
        "  print(x)"
      ]
    },
    {
      "cell_type": "code",
      "source": [
        "Adam_OP(10**-8,0.001,10000)"
      ],
      "metadata": {
        "colab": {
          "base_uri": "https://localhost:8080/"
        },
        "id": "NC-pJbNZ76RU",
        "outputId": "3e0116dc-58c7-4b9d-d160-c1613d36fd9c"
      },
      "execution_count": null,
      "outputs": [
        {
          "output_type": "stream",
          "name": "stdout",
          "text": [
            "[-1.   1.5]\n"
          ]
        }
      ]
    },
    {
      "cell_type": "code",
      "source": [],
      "metadata": {
        "colab": {
          "base_uri": "https://localhost:8080/"
        },
        "id": "GCJ3eWxw5imk",
        "outputId": "09b7d43c-c115-4e94-c068-f697e242e5dd"
      },
      "execution_count": null,
      "outputs": [
        {
          "output_type": "stream",
          "name": "stdout",
          "text": [
            "[1 1]\n"
          ]
        }
      ]
    },
    {
      "cell_type": "code",
      "source": [],
      "metadata": {
        "id": "JV6QBEcN7asr"
      },
      "execution_count": null,
      "outputs": []
    }
  ]
}